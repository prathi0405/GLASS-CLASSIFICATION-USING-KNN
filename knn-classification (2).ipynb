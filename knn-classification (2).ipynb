{
 "cells": [
  {
   "cell_type": "code",
   "execution_count": 1,
   "metadata": {
    "_cell_guid": "b1076dfc-b9ad-4769-8c92-a6c4dae69d19",
    "_uuid": "8f2839f25d086af736a60e9eeb907d3b93b6e0e5",
    "execution": {
     "iopub.execute_input": "2021-01-25T23:16:12.689168Z",
     "iopub.status.busy": "2021-01-25T23:16:12.688448Z",
     "iopub.status.idle": "2021-01-25T23:16:14.240551Z",
     "shell.execute_reply": "2021-01-25T23:16:14.239859Z"
    },
    "papermill": {
     "duration": 1.591314,
     "end_time": "2021-01-25T23:16:14.240672",
     "exception": false,
     "start_time": "2021-01-25T23:16:12.649358",
     "status": "completed"
    },
    "tags": []
   },
   "outputs": [
    {
     "name": "stdout",
     "output_type": "stream",
     "text": [
      "/kaggle/input/glass/glass.csv\n"
     ]
    }
   ],
   "source": [
    "import numpy as np\n",
    "import pandas as pd \n",
    "\n",
    "import seaborn as sns\n",
    "import matplotlib.pyplot as plt\n",
    "%matplotlib inline\n",
    "\n",
    "#SMOTE \n",
    "import imblearn\n",
    "from imblearn.over_sampling import SMOTE\n",
    "\n",
    "#LDA \n",
    "from sklearn.discriminant_analysis import LinearDiscriminantAnalysis as LDA\n",
    "from sklearn.preprocessing import StandardScaler\n",
    "\n",
    "\n",
    "from sklearn.model_selection import train_test_split, GridSearchCV, cross_val_score\n",
    "from sklearn.metrics import confusion_matrix, classification_report, accuracy_score\n",
    "\n",
    "\n",
    "from sklearn.tree import DecisionTreeClassifier\n",
    "from sklearn.ensemble import RandomForestClassifier\n",
    "from sklearn.neighbors import KNeighborsClassifier\n",
    "\n",
    "import warnings\n",
    "warnings.filterwarnings('ignore')\n",
    "\n",
    "pd.options.mode.chained_assignment = None\n",
    "\n",
    "import os\n",
    "for dirname, _, filenames in os.walk('/kaggle/input'):\n",
    "    for filename in filenames:\n",
    "        print(os.path.join(dirname, filename))\n"
   ]
  },
  {
   "cell_type": "code",
   "execution_count": 2,
   "metadata": {
    "_cell_guid": "79c7e3d0-c299-4dcb-8224-4455121ee9b0",
    "_uuid": "d629ff2d2480ee46fbb7e2d37f6b5fab8052498a",
    "execution": {
     "iopub.execute_input": "2021-01-25T23:16:14.295283Z",
     "iopub.status.busy": "2021-01-25T23:16:14.294539Z",
     "iopub.status.idle": "2021-01-25T23:16:14.338026Z",
     "shell.execute_reply": "2021-01-25T23:16:14.338850Z"
    },
    "papermill": {
     "duration": 0.073688,
     "end_time": "2021-01-25T23:16:14.339065",
     "exception": false,
     "start_time": "2021-01-25T23:16:14.265377",
     "status": "completed"
    },
    "tags": []
   },
   "outputs": [
    {
     "data": {
      "text/html": [
       "<div>\n",
       "<style scoped>\n",
       "    .dataframe tbody tr th:only-of-type {\n",
       "        vertical-align: middle;\n",
       "    }\n",
       "\n",
       "    .dataframe tbody tr th {\n",
       "        vertical-align: top;\n",
       "    }\n",
       "\n",
       "    .dataframe thead th {\n",
       "        text-align: right;\n",
       "    }\n",
       "</style>\n",
       "<table border=\"1\" class=\"dataframe\">\n",
       "  <thead>\n",
       "    <tr style=\"text-align: right;\">\n",
       "      <th></th>\n",
       "      <th>RI</th>\n",
       "      <th>Na</th>\n",
       "      <th>Mg</th>\n",
       "      <th>Al</th>\n",
       "      <th>Si</th>\n",
       "      <th>K</th>\n",
       "      <th>Ca</th>\n",
       "      <th>Ba</th>\n",
       "      <th>Fe</th>\n",
       "      <th>Type</th>\n",
       "    </tr>\n",
       "  </thead>\n",
       "  <tbody>\n",
       "    <tr>\n",
       "      <th>0</th>\n",
       "      <td>1.52101</td>\n",
       "      <td>13.64</td>\n",
       "      <td>4.49</td>\n",
       "      <td>1.10</td>\n",
       "      <td>71.78</td>\n",
       "      <td>0.06</td>\n",
       "      <td>8.75</td>\n",
       "      <td>0.0</td>\n",
       "      <td>0.0</td>\n",
       "      <td>1</td>\n",
       "    </tr>\n",
       "    <tr>\n",
       "      <th>1</th>\n",
       "      <td>1.51761</td>\n",
       "      <td>13.89</td>\n",
       "      <td>3.60</td>\n",
       "      <td>1.36</td>\n",
       "      <td>72.73</td>\n",
       "      <td>0.48</td>\n",
       "      <td>7.83</td>\n",
       "      <td>0.0</td>\n",
       "      <td>0.0</td>\n",
       "      <td>1</td>\n",
       "    </tr>\n",
       "    <tr>\n",
       "      <th>2</th>\n",
       "      <td>1.51618</td>\n",
       "      <td>13.53</td>\n",
       "      <td>3.55</td>\n",
       "      <td>1.54</td>\n",
       "      <td>72.99</td>\n",
       "      <td>0.39</td>\n",
       "      <td>7.78</td>\n",
       "      <td>0.0</td>\n",
       "      <td>0.0</td>\n",
       "      <td>1</td>\n",
       "    </tr>\n",
       "    <tr>\n",
       "      <th>3</th>\n",
       "      <td>1.51766</td>\n",
       "      <td>13.21</td>\n",
       "      <td>3.69</td>\n",
       "      <td>1.29</td>\n",
       "      <td>72.61</td>\n",
       "      <td>0.57</td>\n",
       "      <td>8.22</td>\n",
       "      <td>0.0</td>\n",
       "      <td>0.0</td>\n",
       "      <td>1</td>\n",
       "    </tr>\n",
       "    <tr>\n",
       "      <th>4</th>\n",
       "      <td>1.51742</td>\n",
       "      <td>13.27</td>\n",
       "      <td>3.62</td>\n",
       "      <td>1.24</td>\n",
       "      <td>73.08</td>\n",
       "      <td>0.55</td>\n",
       "      <td>8.07</td>\n",
       "      <td>0.0</td>\n",
       "      <td>0.0</td>\n",
       "      <td>1</td>\n",
       "    </tr>\n",
       "  </tbody>\n",
       "</table>\n",
       "</div>"
      ],
      "text/plain": [
       "        RI     Na    Mg    Al     Si     K    Ca   Ba   Fe  Type\n",
       "0  1.52101  13.64  4.49  1.10  71.78  0.06  8.75  0.0  0.0     1\n",
       "1  1.51761  13.89  3.60  1.36  72.73  0.48  7.83  0.0  0.0     1\n",
       "2  1.51618  13.53  3.55  1.54  72.99  0.39  7.78  0.0  0.0     1\n",
       "3  1.51766  13.21  3.69  1.29  72.61  0.57  8.22  0.0  0.0     1\n",
       "4  1.51742  13.27  3.62  1.24  73.08  0.55  8.07  0.0  0.0     1"
      ]
     },
     "execution_count": 2,
     "metadata": {},
     "output_type": "execute_result"
    }
   ],
   "source": [
    "data = pd.read_csv('../input/glass/glass.csv')\n",
    "data.head()"
   ]
  },
  {
   "cell_type": "code",
   "execution_count": 3,
   "metadata": {
    "execution": {
     "iopub.execute_input": "2021-01-25T23:16:14.403351Z",
     "iopub.status.busy": "2021-01-25T23:16:14.402449Z",
     "iopub.status.idle": "2021-01-25T23:16:14.405949Z",
     "shell.execute_reply": "2021-01-25T23:16:14.406432Z"
    },
    "papermill": {
     "duration": 0.041484,
     "end_time": "2021-01-25T23:16:14.406582",
     "exception": false,
     "start_time": "2021-01-25T23:16:14.365098",
     "status": "completed"
    },
    "tags": []
   },
   "outputs": [
    {
     "name": "stdout",
     "output_type": "stream",
     "text": [
      "<class 'pandas.core.frame.DataFrame'>\n",
      "RangeIndex: 214 entries, 0 to 213\n",
      "Data columns (total 10 columns):\n",
      " #   Column  Non-Null Count  Dtype  \n",
      "---  ------  --------------  -----  \n",
      " 0   RI      214 non-null    float64\n",
      " 1   Na      214 non-null    float64\n",
      " 2   Mg      214 non-null    float64\n",
      " 3   Al      214 non-null    float64\n",
      " 4   Si      214 non-null    float64\n",
      " 5   K       214 non-null    float64\n",
      " 6   Ca      214 non-null    float64\n",
      " 7   Ba      214 non-null    float64\n",
      " 8   Fe      214 non-null    float64\n",
      " 9   Type    214 non-null    int64  \n",
      "dtypes: float64(9), int64(1)\n",
      "memory usage: 16.8 KB\n"
     ]
    }
   ],
   "source": [
    "#get information about the data types\n",
    "data.info()"
   ]
  },
  {
   "cell_type": "markdown",
   "metadata": {
    "papermill": {
     "duration": 0.023714,
     "end_time": "2021-01-25T23:16:14.454455",
     "exception": false,
     "start_time": "2021-01-25T23:16:14.430741",
     "status": "completed"
    },
    "tags": []
   },
   "source": [
    "### **Checking null values**\n",
    "Missing values in the dataset can cause problems. Before classification, the missing values problem should be solved.\n",
    "There is no null value in the dataset."
   ]
  },
  {
   "cell_type": "code",
   "execution_count": 4,
   "metadata": {
    "execution": {
     "iopub.execute_input": "2021-01-25T23:16:14.510484Z",
     "iopub.status.busy": "2021-01-25T23:16:14.509784Z",
     "iopub.status.idle": "2021-01-25T23:16:14.514254Z",
     "shell.execute_reply": "2021-01-25T23:16:14.513566Z"
    },
    "papermill": {
     "duration": 0.035794,
     "end_time": "2021-01-25T23:16:14.514369",
     "exception": false,
     "start_time": "2021-01-25T23:16:14.478575",
     "status": "completed"
    },
    "tags": []
   },
   "outputs": [
    {
     "data": {
      "text/plain": [
       "RI      0\n",
       "Na      0\n",
       "Mg      0\n",
       "Al      0\n",
       "Si      0\n",
       "K       0\n",
       "Ca      0\n",
       "Ba      0\n",
       "Fe      0\n",
       "Type    0\n",
       "dtype: int64"
      ]
     },
     "execution_count": 4,
     "metadata": {},
     "output_type": "execute_result"
    }
   ],
   "source": [
    "data.isnull().sum()"
   ]
  },
  {
   "cell_type": "markdown",
   "metadata": {
    "papermill": {
     "duration": 0.02411,
     "end_time": "2021-01-25T23:16:14.562896",
     "exception": false,
     "start_time": "2021-01-25T23:16:14.538786",
     "status": "completed"
    },
    "tags": []
   },
   "source": [
    "The statistical results of the data can help us make some inferences about the dataset.\n",
    "With describe() method, many information such as the mean values of the data, standard deviation values etc are displayed. \n",
    "\n",
    "For example it is seen that the highest mean value is in Si feature."
   ]
  },
  {
   "cell_type": "code",
   "execution_count": 5,
   "metadata": {
    "execution": {
     "iopub.execute_input": "2021-01-25T23:16:14.619836Z",
     "iopub.status.busy": "2021-01-25T23:16:14.619173Z",
     "iopub.status.idle": "2021-01-25T23:16:14.659442Z",
     "shell.execute_reply": "2021-01-25T23:16:14.658769Z"
    },
    "papermill": {
     "duration": 0.072241,
     "end_time": "2021-01-25T23:16:14.659553",
     "exception": false,
     "start_time": "2021-01-25T23:16:14.587312",
     "status": "completed"
    },
    "tags": []
   },
   "outputs": [
    {
     "data": {
      "text/html": [
       "<div>\n",
       "<style scoped>\n",
       "    .dataframe tbody tr th:only-of-type {\n",
       "        vertical-align: middle;\n",
       "    }\n",
       "\n",
       "    .dataframe tbody tr th {\n",
       "        vertical-align: top;\n",
       "    }\n",
       "\n",
       "    .dataframe thead th {\n",
       "        text-align: right;\n",
       "    }\n",
       "</style>\n",
       "<table border=\"1\" class=\"dataframe\">\n",
       "  <thead>\n",
       "    <tr style=\"text-align: right;\">\n",
       "      <th></th>\n",
       "      <th>RI</th>\n",
       "      <th>Na</th>\n",
       "      <th>Mg</th>\n",
       "      <th>Al</th>\n",
       "      <th>Si</th>\n",
       "      <th>K</th>\n",
       "      <th>Ca</th>\n",
       "      <th>Ba</th>\n",
       "      <th>Fe</th>\n",
       "      <th>Type</th>\n",
       "    </tr>\n",
       "  </thead>\n",
       "  <tbody>\n",
       "    <tr>\n",
       "      <th>count</th>\n",
       "      <td>214.000000</td>\n",
       "      <td>214.000000</td>\n",
       "      <td>214.000000</td>\n",
       "      <td>214.000000</td>\n",
       "      <td>214.000000</td>\n",
       "      <td>214.000000</td>\n",
       "      <td>214.000000</td>\n",
       "      <td>214.000000</td>\n",
       "      <td>214.000000</td>\n",
       "      <td>214.000000</td>\n",
       "    </tr>\n",
       "    <tr>\n",
       "      <th>mean</th>\n",
       "      <td>1.518365</td>\n",
       "      <td>13.407850</td>\n",
       "      <td>2.684533</td>\n",
       "      <td>1.444907</td>\n",
       "      <td>72.650935</td>\n",
       "      <td>0.497056</td>\n",
       "      <td>8.956963</td>\n",
       "      <td>0.175047</td>\n",
       "      <td>0.057009</td>\n",
       "      <td>2.780374</td>\n",
       "    </tr>\n",
       "    <tr>\n",
       "      <th>std</th>\n",
       "      <td>0.003037</td>\n",
       "      <td>0.816604</td>\n",
       "      <td>1.442408</td>\n",
       "      <td>0.499270</td>\n",
       "      <td>0.774546</td>\n",
       "      <td>0.652192</td>\n",
       "      <td>1.423153</td>\n",
       "      <td>0.497219</td>\n",
       "      <td>0.097439</td>\n",
       "      <td>2.103739</td>\n",
       "    </tr>\n",
       "    <tr>\n",
       "      <th>min</th>\n",
       "      <td>1.511150</td>\n",
       "      <td>10.730000</td>\n",
       "      <td>0.000000</td>\n",
       "      <td>0.290000</td>\n",
       "      <td>69.810000</td>\n",
       "      <td>0.000000</td>\n",
       "      <td>5.430000</td>\n",
       "      <td>0.000000</td>\n",
       "      <td>0.000000</td>\n",
       "      <td>1.000000</td>\n",
       "    </tr>\n",
       "    <tr>\n",
       "      <th>25%</th>\n",
       "      <td>1.516523</td>\n",
       "      <td>12.907500</td>\n",
       "      <td>2.115000</td>\n",
       "      <td>1.190000</td>\n",
       "      <td>72.280000</td>\n",
       "      <td>0.122500</td>\n",
       "      <td>8.240000</td>\n",
       "      <td>0.000000</td>\n",
       "      <td>0.000000</td>\n",
       "      <td>1.000000</td>\n",
       "    </tr>\n",
       "    <tr>\n",
       "      <th>50%</th>\n",
       "      <td>1.517680</td>\n",
       "      <td>13.300000</td>\n",
       "      <td>3.480000</td>\n",
       "      <td>1.360000</td>\n",
       "      <td>72.790000</td>\n",
       "      <td>0.555000</td>\n",
       "      <td>8.600000</td>\n",
       "      <td>0.000000</td>\n",
       "      <td>0.000000</td>\n",
       "      <td>2.000000</td>\n",
       "    </tr>\n",
       "    <tr>\n",
       "      <th>75%</th>\n",
       "      <td>1.519157</td>\n",
       "      <td>13.825000</td>\n",
       "      <td>3.600000</td>\n",
       "      <td>1.630000</td>\n",
       "      <td>73.087500</td>\n",
       "      <td>0.610000</td>\n",
       "      <td>9.172500</td>\n",
       "      <td>0.000000</td>\n",
       "      <td>0.100000</td>\n",
       "      <td>3.000000</td>\n",
       "    </tr>\n",
       "    <tr>\n",
       "      <th>max</th>\n",
       "      <td>1.533930</td>\n",
       "      <td>17.380000</td>\n",
       "      <td>4.490000</td>\n",
       "      <td>3.500000</td>\n",
       "      <td>75.410000</td>\n",
       "      <td>6.210000</td>\n",
       "      <td>16.190000</td>\n",
       "      <td>3.150000</td>\n",
       "      <td>0.510000</td>\n",
       "      <td>7.000000</td>\n",
       "    </tr>\n",
       "  </tbody>\n",
       "</table>\n",
       "</div>"
      ],
      "text/plain": [
       "               RI          Na          Mg          Al          Si           K  \\\n",
       "count  214.000000  214.000000  214.000000  214.000000  214.000000  214.000000   \n",
       "mean     1.518365   13.407850    2.684533    1.444907   72.650935    0.497056   \n",
       "std      0.003037    0.816604    1.442408    0.499270    0.774546    0.652192   \n",
       "min      1.511150   10.730000    0.000000    0.290000   69.810000    0.000000   \n",
       "25%      1.516523   12.907500    2.115000    1.190000   72.280000    0.122500   \n",
       "50%      1.517680   13.300000    3.480000    1.360000   72.790000    0.555000   \n",
       "75%      1.519157   13.825000    3.600000    1.630000   73.087500    0.610000   \n",
       "max      1.533930   17.380000    4.490000    3.500000   75.410000    6.210000   \n",
       "\n",
       "               Ca          Ba          Fe        Type  \n",
       "count  214.000000  214.000000  214.000000  214.000000  \n",
       "mean     8.956963    0.175047    0.057009    2.780374  \n",
       "std      1.423153    0.497219    0.097439    2.103739  \n",
       "min      5.430000    0.000000    0.000000    1.000000  \n",
       "25%      8.240000    0.000000    0.000000    1.000000  \n",
       "50%      8.600000    0.000000    0.000000    2.000000  \n",
       "75%      9.172500    0.000000    0.100000    3.000000  \n",
       "max     16.190000    3.150000    0.510000    7.000000  "
      ]
     },
     "execution_count": 5,
     "metadata": {},
     "output_type": "execute_result"
    }
   ],
   "source": [
    "data.describe()"
   ]
  },
  {
   "cell_type": "markdown",
   "metadata": {
    "papermill": {
     "duration": 0.024762,
     "end_time": "2021-01-25T23:16:14.709953",
     "exception": false,
     "start_time": "2021-01-25T23:16:14.685191",
     "status": "completed"
    },
    "tags": []
   },
   "source": [
    "### **Checking duplicate values**\n",
    "Repeated data may prevent the model from producing correct results.\n",
    "duplicated() method, it is checked whether there is a repeating value in the dataset. \n"
   ]
  },
  {
   "cell_type": "code",
   "execution_count": 6,
   "metadata": {
    "execution": {
     "iopub.execute_input": "2021-01-25T23:16:14.769715Z",
     "iopub.status.busy": "2021-01-25T23:16:14.769037Z",
     "iopub.status.idle": "2021-01-25T23:16:14.773149Z",
     "shell.execute_reply": "2021-01-25T23:16:14.772584Z"
    },
    "papermill": {
     "duration": 0.038328,
     "end_time": "2021-01-25T23:16:14.773259",
     "exception": false,
     "start_time": "2021-01-25T23:16:14.734931",
     "status": "completed"
    },
    "tags": []
   },
   "outputs": [
    {
     "name": "stdout",
     "output_type": "stream",
     "text": [
      "Number of duplicate rows: 1\n"
     ]
    }
   ],
   "source": [
    "dups = data.duplicated()\n",
    "print('Number of duplicate rows: %d' % dups.sum())"
   ]
  },
  {
   "cell_type": "code",
   "execution_count": 7,
   "metadata": {
    "execution": {
     "iopub.execute_input": "2021-01-25T23:16:14.837207Z",
     "iopub.status.busy": "2021-01-25T23:16:14.836480Z",
     "iopub.status.idle": "2021-01-25T23:16:14.838983Z",
     "shell.execute_reply": "2021-01-25T23:16:14.839576Z"
    },
    "papermill": {
     "duration": 0.040553,
     "end_time": "2021-01-25T23:16:14.839727",
     "exception": false,
     "start_time": "2021-01-25T23:16:14.799174",
     "status": "completed"
    },
    "tags": []
   },
   "outputs": [
    {
     "name": "stdout",
     "output_type": "stream",
     "text": [
      "Number of rows before discarding duplicates = 214\n",
      "Number of rows after discarding duplicates = 213\n"
     ]
    }
   ],
   "source": [
    "#drop duplicated value\n",
    "print('Number of rows before discarding duplicates = %d' % data.shape[0])\n",
    "\n",
    "data2 = data.drop_duplicates()\n",
    "print('Number of rows after discarding duplicates = %d' % data2.shape[0])"
   ]
  },
  {
   "cell_type": "markdown",
   "metadata": {
    "papermill": {
     "duration": 0.026061,
     "end_time": "2021-01-25T23:16:14.891838",
     "exception": false,
     "start_time": "2021-01-25T23:16:14.865777",
     "status": "completed"
    },
    "tags": []
   },
   "source": [
    "### **Checking dataset imbalanced**\n",
    "\n",
    "The sets of data in which classes are not evenly distributed, approximately the same number for its class are called imbalanced datasets.The high accuracy value of the model can be caused by a certain class.\n",
    "\n",
    "value_counts() method shows how many samples it is for the glass type. Type 2 and Type 1 have more samples than other types."
   ]
  },
  {
   "cell_type": "code",
   "execution_count": 8,
   "metadata": {
    "execution": {
     "iopub.execute_input": "2021-01-25T23:16:14.952601Z",
     "iopub.status.busy": "2021-01-25T23:16:14.951752Z",
     "iopub.status.idle": "2021-01-25T23:16:14.955780Z",
     "shell.execute_reply": "2021-01-25T23:16:14.956242Z"
    },
    "papermill": {
     "duration": 0.038482,
     "end_time": "2021-01-25T23:16:14.956386",
     "exception": false,
     "start_time": "2021-01-25T23:16:14.917904",
     "status": "completed"
    },
    "tags": []
   },
   "outputs": [
    {
     "data": {
      "text/plain": [
       "2    76\n",
       "1    69\n",
       "7    29\n",
       "3    17\n",
       "5    13\n",
       "6     9\n",
       "Name: Type, dtype: int64"
      ]
     },
     "execution_count": 8,
     "metadata": {},
     "output_type": "execute_result"
    }
   ],
   "source": [
    "data2.Type.value_counts()"
   ]
  },
  {
   "cell_type": "code",
   "execution_count": 9,
   "metadata": {
    "execution": {
     "iopub.execute_input": "2021-01-25T23:16:15.017199Z",
     "iopub.status.busy": "2021-01-25T23:16:15.016498Z",
     "iopub.status.idle": "2021-01-25T23:16:15.277289Z",
     "shell.execute_reply": "2021-01-25T23:16:15.276560Z"
    },
    "papermill": {
     "duration": 0.294305,
     "end_time": "2021-01-25T23:16:15.277413",
     "exception": false,
     "start_time": "2021-01-25T23:16:14.983108",
     "status": "completed"
    },
    "tags": []
   },
   "outputs": [
    {
     "data": {
      "text/plain": [
       "<matplotlib.axes._subplots.AxesSubplot at 0x7f51e9409750>"
      ]
     },
     "execution_count": 9,
     "metadata": {},
     "output_type": "execute_result"
    },
    {
     "data": {
      "image/png": "[encoded data removed]",
      "text/plain": [
       "<Figure size 864x504 with 1 Axes>"
      ]
     },
     "metadata": {},
     "output_type": "display_data"
    }
   ],
   "source": [
    "sns.set(style = 'whitegrid', font_scale = 1.8)\n",
    "plt.subplots(figsize = (12,7))\n",
    "sns.countplot(x = 'Type', data = data2, palette = 'Pastel1')"
   ]
  },
  {
   "cell_type": "markdown",
   "metadata": {
    "papermill": {
     "duration": 0.029086,
     "end_time": "2021-01-25T23:16:15.334926",
     "exception": false,
     "start_time": "2021-01-25T23:16:15.305840",
     "status": "completed"
    },
    "tags": []
   },
   "source": [
    "### **Checking outliers**"
   ]
  },
  {
   "cell_type": "code",
   "execution_count": 10,
   "metadata": {
    "execution": {
     "iopub.execute_input": "2021-01-25T23:16:15.489351Z",
     "iopub.status.busy": "2021-01-25T23:16:15.488290Z",
     "iopub.status.idle": "2021-01-25T23:16:17.610587Z",
     "shell.execute_reply": "2021-01-25T23:16:17.609955Z"
    },
    "papermill": {
     "duration": 2.24769,
     "end_time": "2021-01-25T23:16:17.610716",
     "exception": false,
     "start_time": "2021-01-25T23:16:15.363026",
     "status": "completed"
    },
    "tags": []
   },
   "outputs": [
    {
     "data": {
      "image/png": "[encoded data removed]",
      "text/plain": [
       "<Figure size 1440x1080 with 9 Axes>"
      ]
     },
     "metadata": {},
     "output_type": "display_data"
    }
   ],
   "source": [
    "target_class_name = 'Type'\n",
    "features = ['RI', 'Na', 'Mg', 'Al', 'Si', 'K', 'Ca', 'Ba', 'Fe']\n",
    "\n",
    "sns.set(style = 'whitegrid', font_scale = 1.2, palette = 'Paired')\n",
    "plt.subplots(figsize = (20,15))\n",
    "\n",
    "for i in range(1,10):\n",
    "    plt.subplot(3,3,i)\n",
    "    sns.boxplot(x = target_class_name, y = features[i-1], data = data2)\n"
   ]
  },
  {
   "cell_type": "markdown",
   "metadata": {
    "papermill": {
     "duration": 0.030232,
     "end_time": "2021-01-25T23:16:17.672559",
     "exception": false,
     "start_time": "2021-01-25T23:16:17.642327",
     "status": "completed"
    },
    "tags": []
   },
   "source": [
    "### **correlation coefficients**\n",
    "Correlation is the relationship between two variables. Values above 0.70, 0.80 indicate a high correlation. Finding highly correlated features in the dataset can be misleading for the model. \n",
    "Attention should be paid to feature selection while applying the model.\n",
    "\n",
    "\n",
    "There is a high correlation of 0.81 between Ca and RI in the dataset.\n",
    "##### Ba - Al -> 0.48\n",
    "##### Ba - Na -> 0.33\n",
    "There is a negative correlation between Si and RI with a value of -0.54."
   ]
  },
  {
   "cell_type": "code",
   "execution_count": 11,
   "metadata": {
    "execution": {
     "iopub.execute_input": "2021-01-25T23:16:17.742349Z",
     "iopub.status.busy": "2021-01-25T23:16:17.741661Z",
     "iopub.status.idle": "2021-01-25T23:16:18.167163Z",
     "shell.execute_reply": "2021-01-25T23:16:18.167664Z"
    },
    "papermill": {
     "duration": 0.463903,
     "end_time": "2021-01-25T23:16:18.167821",
     "exception": false,
     "start_time": "2021-01-25T23:16:17.703918",
     "status": "completed"
    },
    "tags": []
   },
   "outputs": [
    {
     "data": {
      "text/plain": [
       "<matplotlib.axes._subplots.AxesSubplot at 0x7f51e84dcbd0>"
      ]
     },
     "execution_count": 11,
     "metadata": {},
     "output_type": "execute_result"
    },
    {
     "data": {
      "image/png": "[encoded data removed]",
      "text/plain": [
       "<Figure size 720x720 with 2 Axes>"
      ]
     },
     "metadata": {},
     "output_type": "display_data"
    }
   ],
   "source": [
    "correlation = data2[features].corr()\n",
    "mask = np.zeros_like(correlation)\n",
    "mask[np.triu_indices_from(mask)] = True\n",
    "plt.subplots(figsize = (10, 10))\n",
    "sns.heatmap(correlation, mask = mask, cmap = 'YlGnBu', annot = True, linewidth = .5, square = True)"
   ]
  },
  {
   "cell_type": "markdown",
   "metadata": {
    "papermill": {
     "duration": 0.032053,
     "end_time": "2021-01-25T23:16:18.232385",
     "exception": false,
     "start_time": "2021-01-25T23:16:18.200332",
     "status": "completed"
    },
    "tags": []
   },
   "source": [
    "It is set to be 80% training data and 20% test data."
   ]
  },
  {
   "cell_type": "code",
   "execution_count": 12,
   "metadata": {
    "execution": {
     "iopub.execute_input": "2021-01-25T23:16:18.306130Z",
     "iopub.status.busy": "2021-01-25T23:16:18.305447Z",
     "iopub.status.idle": "2021-01-25T23:16:18.312295Z",
     "shell.execute_reply": "2021-01-25T23:16:18.311740Z"
    },
    "papermill": {
     "duration": 0.047791,
     "end_time": "2021-01-25T23:16:18.312402",
     "exception": false,
     "start_time": "2021-01-25T23:16:18.264611",
     "status": "completed"
    },
    "tags": []
   },
   "outputs": [],
   "source": [
    "X = pd.DataFrame(data2.drop([\"Type\"], axis = 1),\n",
    "            columns=['RI','Na','Mg','Al','Si','K','Ca','Ba','Fe'])\n",
    "y = data2.Type\n",
    "\n",
    "X_train, X_test, y_train, y_test = train_test_split(X, y, test_size = .2, random_state = 40, stratify = y)"
   ]
  },
  {
   "cell_type": "markdown",
   "metadata": {
    "papermill": {
     "duration": 0.032072,
     "end_time": "2021-01-25T23:16:18.376978",
     "exception": false,
     "start_time": "2021-01-25T23:16:18.344906",
     "status": "completed"
    },
    "tags": []
   },
   "source": [
    "### K-Nearest Neighbors Classification\n",
    "It is a widely used supervised machine learning algorithm. In the work of the algorithm, a value of k is determined, the meaning of k value is the number of elements to look at. When a value comes, the distance between the value is calculated by taking the nearest k elements. Euclidean, Manhattan, Minkowski and Hamming functions are used for distance calculation. After the distances are calculated, they are sorted and the corresponding value is assigned to the appropriate class.\n",
    "\n",
    "With the help of GridSearchCV, after calculating the best value in the range of (1, 50) of the number of neighbors to be given to the model, the accuracy value was calculated as 0.7674."
   ]
  },
  {
   "cell_type": "code",
   "execution_count": 13,
   "metadata": {
    "execution": {
     "iopub.execute_input": "2021-01-25T23:16:18.445868Z",
     "iopub.status.busy": "2021-01-25T23:16:18.444846Z",
     "iopub.status.idle": "2021-01-25T23:16:21.658027Z",
     "shell.execute_reply": "2021-01-25T23:16:21.657454Z"
    },
    "papermill": {
     "duration": 3.248877,
     "end_time": "2021-01-25T23:16:21.658151",
     "exception": false,
     "start_time": "2021-01-25T23:16:18.409274",
     "status": "completed"
    },
    "tags": []
   },
   "outputs": [],
   "source": [
    "knn = KNeighborsClassifier()\n",
    "knn_params = {'n_neighbors': np.arange(1,50)}\n",
    "knn_cv_model = GridSearchCV(knn, knn_params, cv = 10).fit(X_train, y_train)\n",
    "\n",
    "n_neig = knn_cv_model.best_params_['n_neighbors']"
   ]
  },
  {
   "cell_type": "code",
   "execution_count": 14,
   "metadata": {
    "execution": {
     "iopub.execute_input": "2021-01-25T23:16:21.737738Z",
     "iopub.status.busy": "2021-01-25T23:16:21.737014Z",
     "iopub.status.idle": "2021-01-25T23:16:21.745662Z",
     "shell.execute_reply": "2021-01-25T23:16:21.744737Z"
    },
    "papermill": {
     "duration": 0.053862,
     "end_time": "2021-01-25T23:16:21.745841",
     "exception": false,
     "start_time": "2021-01-25T23:16:21.691979",
     "status": "completed"
    },
    "tags": []
   },
   "outputs": [
    {
     "name": "stdout",
     "output_type": "stream",
     "text": [
      "Accuracy score for KNN: 0.7674418604651163\n"
     ]
    }
   ],
   "source": [
    "knn_tuned = KNeighborsClassifier(n_neighbors = n_neig).fit(X_train, y_train)\n",
    "y_pred = knn_tuned.predict(X_test)\n",
    "knn_accuracy = accuracy_score(y_test, y_pred)\n",
    "print('Accuracy score for KNN: {}'.format(knn_accuracy))"
   ]
  },
  {
   "cell_type": "markdown",
   "metadata": {
    "papermill": {
     "duration": 0.03301,
     "end_time": "2021-01-25T23:16:21.812920",
     "exception": false,
     "start_time": "2021-01-25T23:16:21.779910",
     "status": "completed"
    },
    "tags": []
   },
   "source": [
    "Accuracy is the number of correctly predicted data points out of all the data points.\n",
    "As a performance measure, accuracy is inappropriate for imbalanced classification problems. Therefore, it is necessary to evaluate the results of other metrics together.\n",
    "\n",
    "The confusion matrix that enables the calculation of the metrics that measure the success of the classification models was created."
   ]
  },
  {
   "cell_type": "code",
   "execution_count": 15,
   "metadata": {
    "execution": {
     "iopub.execute_input": "2021-01-25T23:16:21.894869Z",
     "iopub.status.busy": "2021-01-25T23:16:21.889192Z",
     "iopub.status.idle": "2021-01-25T23:16:22.111357Z",
     "shell.execute_reply": "2021-01-25T23:16:22.110740Z"
    },
    "papermill": {
     "duration": 0.265257,
     "end_time": "2021-01-25T23:16:22.111476",
     "exception": false,
     "start_time": "2021-01-25T23:16:21.846219",
     "status": "completed"
    },
    "tags": []
   },
   "outputs": [
    {
     "data": {
      "image/png": "[encoded data removed]",
      "text/plain": [
       "<Figure size 432x288 with 1 Axes>"
      ]
     },
     "metadata": {},
     "output_type": "display_data"
    }
   ],
   "source": [
    "#Confusion Matrix of KNN\n",
    "sns.heatmap(confusion_matrix(y_test, y_pred), annot = True, lw = 2, cbar = False, cmap = 'GnBu')\n",
    "plt.ylabel('True values')\n",
    "plt.xlabel('Predicted values')\n",
    "plt.title('Confusion Matrix')\n",
    "plt.show()"
   ]
  },
  {
   "cell_type": "markdown",
   "metadata": {
    "papermill": {
     "duration": 0.033977,
     "end_time": "2021-01-25T23:16:22.179630",
     "exception": false,
     "start_time": "2021-01-25T23:16:22.145653",
     "status": "completed"
    },
    "tags": []
   },
   "source": [
    "An alternative to using classification accuracy is to use precision and recall metrics.\n",
    "\n",
    "##### -> Precision quantifies the number of positive class predictions that actually belong to the positive class.\n",
    "##### -> Recall quantifies the number of positive class predictions made out of all positive examples in the dataset.\n",
    "##### -> F-Measure provides a single score that balances both the concerns of precision and recall in one number."
   ]
  },
  {
   "cell_type": "code",
   "execution_count": 16,
   "metadata": {
    "execution": {
     "iopub.execute_input": "2021-01-25T23:16:22.259157Z",
     "iopub.status.busy": "2021-01-25T23:16:22.257067Z",
     "iopub.status.idle": "2021-01-25T23:16:22.264320Z",
     "shell.execute_reply": "2021-01-25T23:16:22.264832Z"
    },
    "papermill": {
     "duration": 0.051127,
     "end_time": "2021-01-25T23:16:22.264982",
     "exception": false,
     "start_time": "2021-01-25T23:16:22.213855",
     "status": "completed"
    },
    "tags": []
   },
   "outputs": [
    {
     "name": "stdout",
     "output_type": "stream",
     "text": [
      "              precision    recall  f1-score   support\n",
      "\n",
      "           1       0.63      0.86      0.73        14\n",
      "           2       0.82      0.60      0.69        15\n",
      "           3       0.50      0.33      0.40         3\n",
      "           5       1.00      1.00      1.00         3\n",
      "           6       1.00      1.00      1.00         2\n",
      "           7       1.00      1.00      1.00         6\n",
      "\n",
      "    accuracy                           0.77        43\n",
      "   macro avg       0.82      0.80      0.80        43\n",
      "weighted avg       0.78      0.77      0.76        43\n",
      "\n"
     ]
    }
   ],
   "source": [
    "#Classification report for KNN\n",
    "print(classification_report(y_test, y_pred))"
   ]
  },
  {
   "cell_type": "markdown",
   "metadata": {
    "papermill": {
     "duration": 0.034466,
     "end_time": "2021-01-25T23:16:22.334044",
     "exception": false,
     "start_time": "2021-01-25T23:16:22.299578",
     "status": "completed"
    },
    "tags": []
   },
   "source": [
    "### SMOTE (Synthetic Minority Over-sampling Technique)\n",
    "\n",
    "One of the methods that can be used to eliminate the imbalance in the data set is resampling. It has two methods:\n",
    "\n",
    "The first method is to increase the data belonging to the minority classes to obtain classes with an equal number of data. It is called oversampling.\n",
    "\n",
    "Another method is to obtain a balanced data set by extracting the data belonging to the weighted class from the data set. It is called undersampling.\n",
    "\n",
    "\n",
    "The oversampling method was preferred because the number of samples in the data set used is small and the undersampling process will cause data loss. In order to apply this method, the SMOTE technique in imbalanced-learn library was used and synthetic data belonging to minority classes were produced.\n"
   ]
  },
  {
   "cell_type": "code",
   "execution_count": 17,
   "metadata": {
    "execution": {
     "iopub.execute_input": "2021-01-25T23:16:22.418100Z",
     "iopub.status.busy": "2021-01-25T23:16:22.415753Z",
     "iopub.status.idle": "2021-01-25T23:16:22.615873Z",
     "shell.execute_reply": "2021-01-25T23:16:22.615292Z"
    },
    "papermill": {
     "duration": 0.247273,
     "end_time": "2021-01-25T23:16:22.615996",
     "exception": false,
     "start_time": "2021-01-25T23:16:22.368723",
     "status": "completed"
    },
    "tags": []
   },
   "outputs": [
    {
     "data": {
      "text/plain": [
       "Text(0.5, 1.0, 'Before SMOTE')"
      ]
     },
     "execution_count": 17,
     "metadata": {},
     "output_type": "execute_result"
    },
    {
     "data": {
      "image/png": "[encoded data removed]",
      "text/plain": [
       "<Figure size 864x504 with 1 Axes>"
      ]
     },
     "metadata": {},
     "output_type": "display_data"
    }
   ],
   "source": [
    "sns.set(style = 'whitegrid', font_scale = 1.8)\n",
    "plt.subplots(figsize = (12,7))\n",
    "sns.countplot(x = y, palette = 'Pastel1').set_title('Before SMOTE')"
   ]
  },
  {
   "cell_type": "code",
   "execution_count": 18,
   "metadata": {
    "execution": {
     "iopub.execute_input": "2021-01-25T23:16:22.700522Z",
     "iopub.status.busy": "2021-01-25T23:16:22.698565Z",
     "iopub.status.idle": "2021-01-25T23:16:22.911078Z",
     "shell.execute_reply": "2021-01-25T23:16:22.910496Z"
    },
    "papermill": {
     "duration": 0.259273,
     "end_time": "2021-01-25T23:16:22.911191",
     "exception": false,
     "start_time": "2021-01-25T23:16:22.651918",
     "status": "completed"
    },
    "tags": []
   },
   "outputs": [
    {
     "data": {
      "text/plain": [
       "Text(0.5, 1.0, 'After SMOTE')"
      ]
     },
     "execution_count": 18,
     "metadata": {},
     "output_type": "execute_result"
    },
    {
     "data": {
      "image/png": "[encoded data removed]",
      "text/plain": [
       "<Figure size 864x504 with 1 Axes>"
      ]
     },
     "metadata": {},
     "output_type": "display_data"
    }
   ],
   "source": [
    "sm = SMOTE(sampling_strategy = 'not majority', random_state = 42)\n",
    "x_res, y_res = sm.fit_resample(X, y)\n",
    "y_res_df = pd.DataFrame(y_res)\n",
    "\n",
    "\n",
    "sns.set(style = 'whitegrid', font_scale = 1.8)\n",
    "plt.subplots(figsize = (12,7))\n",
    "sns.countplot(x = y_res_df.Type, palette = 'Pastel1').set_title('After SMOTE')\n"
   ]
  },
  {
   "cell_type": "code",
   "execution_count": 19,
   "metadata": {
    "execution": {
     "iopub.execute_input": "2021-01-25T23:16:22.995477Z",
     "iopub.status.busy": "2021-01-25T23:16:22.994572Z",
     "iopub.status.idle": "2021-01-25T23:16:23.000560Z",
     "shell.execute_reply": "2021-01-25T23:16:23.000001Z"
    },
    "papermill": {
     "duration": 0.051561,
     "end_time": "2021-01-25T23:16:23.000684",
     "exception": false,
     "start_time": "2021-01-25T23:16:22.949123",
     "status": "completed"
    },
    "tags": []
   },
   "outputs": [
    {
     "name": "stdout",
     "output_type": "stream",
     "text": [
      "(456, 9)\n",
      "(456,)\n"
     ]
    },
    {
     "data": {
      "text/plain": [
       "7    76\n",
       "6    76\n",
       "5    76\n",
       "3    76\n",
       "2    76\n",
       "1    76\n",
       "Name: Type, dtype: int64"
      ]
     },
     "execution_count": 19,
     "metadata": {},
     "output_type": "execute_result"
    }
   ],
   "source": [
    "print(x_res.shape)\n",
    "print(y_res.shape)\n",
    "\n",
    "y_res.value_counts()"
   ]
  },
  {
   "cell_type": "markdown",
   "metadata": {
    "papermill": {
     "duration": 0.038377,
     "end_time": "2021-01-25T23:16:23.077769",
     "exception": false,
     "start_time": "2021-01-25T23:16:23.039392",
     "status": "completed"
    },
    "tags": []
   },
   "source": [
    "#### Standard Scaler\n",
    "\n",
    "Situations such as the distribution of data and the scale differences between features are factors that affect the operation of algorithms. In this case, pulling the features into a common data range enables us to obtain more accurate results."
   ]
  },
  {
   "cell_type": "code",
   "execution_count": 20,
   "metadata": {
    "execution": {
     "iopub.execute_input": "2021-01-25T23:16:23.166733Z",
     "iopub.status.busy": "2021-01-25T23:16:23.162429Z",
     "iopub.status.idle": "2021-01-25T23:16:23.174559Z",
     "shell.execute_reply": "2021-01-25T23:16:23.173876Z"
    },
    "papermill": {
     "duration": 0.058105,
     "end_time": "2021-01-25T23:16:23.174671",
     "exception": false,
     "start_time": "2021-01-25T23:16:23.116566",
     "status": "completed"
    },
    "tags": []
   },
   "outputs": [],
   "source": [
    "X_train, X_test, y_train, y_test = train_test_split(x_res, y_res, test_size = .2, random_state = 40, stratify = y_res)\n",
    "sc = StandardScaler()\n",
    "X_train = sc.fit_transform(X_train)\n",
    "X_test = sc.transform(X_test)\n"
   ]
  },
  {
   "cell_type": "markdown",
   "metadata": {
    "papermill": {
     "duration": 0.038565,
     "end_time": "2021-01-25T23:16:23.252324",
     "exception": false,
     "start_time": "2021-01-25T23:16:23.213759",
     "status": "completed"
    },
    "tags": []
   },
   "source": [
    "### LDA (Linear Discriminant Analysis)\n",
    "It is used as a size reduction technique. It reduces the size of the data set, maximizing the difference between classes. The goal is to prevent overfitting and reduce computational costs.\n",
    "\n",
    "In the data set, 9 attributes were reduced to 5 significant components with the help of LDA."
   ]
  },
  {
   "cell_type": "code",
   "execution_count": 21,
   "metadata": {
    "execution": {
     "iopub.execute_input": "2021-01-25T23:16:23.336923Z",
     "iopub.status.busy": "2021-01-25T23:16:23.336236Z",
     "iopub.status.idle": "2021-01-25T23:16:23.385275Z",
     "shell.execute_reply": "2021-01-25T23:16:23.386046Z"
    },
    "papermill": {
     "duration": 0.094934,
     "end_time": "2021-01-25T23:16:23.386217",
     "exception": false,
     "start_time": "2021-01-25T23:16:23.291283",
     "status": "completed"
    },
    "tags": []
   },
   "outputs": [
    {
     "name": "stdout",
     "output_type": "stream",
     "text": [
      "(364, 5)\n",
      "(92, 5)\n"
     ]
    }
   ],
   "source": [
    "lda = LDA(n_components = 5)\n",
    "X_train = lda.fit_transform(X_train, y_train)\n",
    "X_test = lda.transform(X_test)\n",
    "\n",
    "print(X_train.shape)\n",
    "print(X_test.shape)"
   ]
  },
  {
   "cell_type": "markdown",
   "metadata": {
    "papermill": {
     "duration": 0.038469,
     "end_time": "2021-01-25T23:16:23.466554",
     "exception": false,
     "start_time": "2021-01-25T23:16:23.428085",
     "status": "completed"
    },
    "tags": []
   },
   "source": [
    "### KNN Classification again"
   ]
  },
  {
   "cell_type": "code",
   "execution_count": 22,
   "metadata": {
    "execution": {
     "iopub.execute_input": "2021-01-25T23:16:23.554461Z",
     "iopub.status.busy": "2021-01-25T23:16:23.553362Z",
     "iopub.status.idle": "2021-01-25T23:16:25.554735Z",
     "shell.execute_reply": "2021-01-25T23:16:25.555230Z"
    },
    "papermill": {
     "duration": 2.049403,
     "end_time": "2021-01-25T23:16:25.555382",
     "exception": false,
     "start_time": "2021-01-25T23:16:23.505979",
     "status": "completed"
    },
    "tags": []
   },
   "outputs": [],
   "source": [
    "knn = KNeighborsClassifier()\n",
    "knn_params = {'n_neighbors': np.arange(1,50)}\n",
    "knn_cv_model = GridSearchCV(knn, knn_params, cv = 10).fit(X_train, y_train)\n",
    "n_neighbor = knn_cv_model.best_params_['n_neighbors']"
   ]
  },
  {
   "cell_type": "code",
   "execution_count": 23,
   "metadata": {
    "execution": {
     "iopub.execute_input": "2021-01-25T23:16:25.637447Z",
     "iopub.status.busy": "2021-01-25T23:16:25.636394Z",
     "iopub.status.idle": "2021-01-25T23:16:25.650202Z",
     "shell.execute_reply": "2021-01-25T23:16:25.649674Z"
    },
    "papermill": {
     "duration": 0.055977,
     "end_time": "2021-01-25T23:16:25.650314",
     "exception": false,
     "start_time": "2021-01-25T23:16:25.594337",
     "status": "completed"
    },
    "tags": []
   },
   "outputs": [
    {
     "name": "stdout",
     "output_type": "stream",
     "text": [
      "Accuracy score for KNN: 0.8478260869565217\n"
     ]
    }
   ],
   "source": [
    "knn_tuned = KNeighborsClassifier(n_neighbors = n_neighbor).fit(X_train,y_train)\n",
    "knn_y_pred = knn_tuned.predict(X_test)\n",
    "knn_acc = accuracy_score(y_test, knn_y_pred)\n",
    "print('Accuracy score for KNN: {}'.format(knn_acc))"
   ]
  },
  {
   "cell_type": "code",
   "execution_count": 24,
   "metadata": {
    "execution": {
     "iopub.execute_input": "2021-01-25T23:16:25.742610Z",
     "iopub.status.busy": "2021-01-25T23:16:25.738813Z",
     "iopub.status.idle": "2021-01-25T23:16:25.966757Z",
     "shell.execute_reply": "2021-01-25T23:16:25.967237Z"
    },
    "papermill": {
     "duration": 0.277445,
     "end_time": "2021-01-25T23:16:25.967394",
     "exception": false,
     "start_time": "2021-01-25T23:16:25.689949",
     "status": "completed"
    },
    "tags": []
   },
   "outputs": [
    {
     "data": {
      "image/png": "[encoded data removed]",
      "text/plain": [
       "<Figure size 432x288 with 1 Axes>"
      ]
     },
     "metadata": {},
     "output_type": "display_data"
    }
   ],
   "source": [
    "#Confusion Matrix of KNN\n",
    "sns.heatmap(confusion_matrix(y_test, knn_y_pred), annot = True, lw = 2, cbar = False, cmap = 'GnBu')\n",
    "plt.ylabel('True values')\n",
    "plt.xlabel('Predicted values')\n",
    "plt.title('Confusion Matrix')\n",
    "plt.show()"
   ]
  },
  {
   "cell_type": "code",
   "execution_count": 25,
   "metadata": {
    "execution": {
     "iopub.execute_input": "2021-01-25T23:16:26.057822Z",
     "iopub.status.busy": "2021-01-25T23:16:26.056730Z",
     "iopub.status.idle": "2021-01-25T23:16:26.064655Z",
     "shell.execute_reply": "2021-01-25T23:16:26.065397Z"
    },
    "papermill": {
     "duration": 0.056866,
     "end_time": "2021-01-25T23:16:26.065594",
     "exception": false,
     "start_time": "2021-01-25T23:16:26.008728",
     "status": "completed"
    },
    "tags": []
   },
   "outputs": [
    {
     "name": "stdout",
     "output_type": "stream",
     "text": [
      "              precision    recall  f1-score   support\n",
      "\n",
      "           1       0.57      0.75      0.65        16\n",
      "           2       0.78      0.47      0.58        15\n",
      "           3       0.81      0.87      0.84        15\n",
      "           5       1.00      1.00      1.00        16\n",
      "           6       1.00      1.00      1.00        15\n",
      "           7       1.00      1.00      1.00        15\n",
      "\n",
      "    accuracy                           0.85        92\n",
      "   macro avg       0.86      0.85      0.85        92\n",
      "weighted avg       0.86      0.85      0.84        92\n",
      "\n"
     ]
    }
   ],
   "source": [
    "#Classification report for KNN\n",
    "print(classification_report(y_test, knn_y_pred))"
   ]
  }
 ],
 "metadata": {
  "kernelspec": {
   "display_name": "Python 3",
   "language": "python",
   "name": "python3"
  },
  "language_info": {
   "codemirror_mode": {
    "name": "ipython",
    "version": 3
   },
   "file_extension": ".py",
   "mimetype": "text/x-python",
   "name": "python",
   "nbconvert_exporter": "python",
   "pygments_lexer": "ipython3",
   "version": "3.7.6"
  },
  "papermill": {
   "duration": 18.530551,
   "end_time": "2021-01-25T23:16:26.216005",
   "environment_variables": {},
   "exception": null,
   "input_path": "__notebook__.ipynb",
   "output_path": "__notebook__.ipynb",
   "parameters": {},
   "start_time": "2021-01-25T23:16:07.685454",
   "version": "2.1.0"
  }
 },
 "nbformat": 4,
 "nbformat_minor": 4
}
